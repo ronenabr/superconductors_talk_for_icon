{
 "metadata": {
  "name": "",
  "signature": "sha256:19e010bdd1d51372f97865a60789d594b477fce7bcd5343811af223b9c2eeb97"
 },
 "nbformat": 3,
 "nbformat_minor": 0,
 "worksheets": []
}